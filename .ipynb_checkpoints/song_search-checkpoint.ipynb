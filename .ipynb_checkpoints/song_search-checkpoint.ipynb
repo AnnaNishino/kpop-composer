{
 "cells": [
  {
   "cell_type": "code",
   "execution_count": 18,
   "metadata": {},
   "outputs": [],
   "source": [
    "import json"
   ]
  },
  {
   "cell_type": "code",
   "execution_count": 46,
   "metadata": {},
   "outputs": [],
   "source": [
    "f = open('data.json')\n",
    "db = json.load(f)"
   ]
  },
  {
   "cell_type": "code",
   "execution_count": 47,
   "metadata": {},
   "outputs": [
    {
     "data": {
      "text/plain": [
       "{'items': [{'song': 'N.E.W.S',\n",
       "   'artist': ['14U'],\n",
       "   'composer': ['Steven Lee', 'Jimmy Richard', 'Al Geekboy']}]}"
      ]
     },
     "execution_count": 47,
     "metadata": {},
     "output_type": "execute_result"
    }
   ],
   "source": [
    "db"
   ]
  },
  {
   "cell_type": "code",
   "execution_count": 48,
   "metadata": {},
   "outputs": [],
   "source": [
    "item = {}"
   ]
  },
  {
   "cell_type": "code",
   "execution_count": 49,
   "metadata": {},
   "outputs": [
    {
     "name": "stdin",
     "output_type": "stream",
     "text": [
      "song name:  BLIND FOR LOVE\n"
     ]
    }
   ],
   "source": [
    "song = input('song name: ')"
   ]
  },
  {
   "cell_type": "code",
   "execution_count": 50,
   "metadata": {},
   "outputs": [
    {
     "name": "stdin",
     "output_type": "stream",
     "text": [
      "artist name:  AB6IX\n",
      "more artist available? y/n : n\n"
     ]
    }
   ],
   "source": [
    "artist = []\n",
    "element = input('artist name: ')\n",
    "artist.append(element)\n",
    "next_element = input('more artist available? y/n :')\n",
    "\n",
    "while next_element == 'y':\n",
    "    element = input('artist name: ')\n",
    "    artist.append(element)\n",
    "    next_element = input('more artist available? y/n :')"
   ]
  },
  {
   "cell_type": "code",
   "execution_count": 51,
   "metadata": {},
   "outputs": [
    {
     "name": "stdin",
     "output_type": "stream",
     "text": [
      "composer name:  이대휘\n",
      "more composer available? y/n : y\n",
      "composer name:  Xepy\n",
      "more acomposer available? y/n : y\n",
      "composer name:  SFRM\n",
      "more acomposer available? y/n : y\n",
      "composer name:  Sanzowave\n",
      "more acomposer available? y/n : y\n",
      "composer name:  nomad\n",
      "more acomposer available? y/n : y\n",
      "composer name:  Rhymer\n",
      "more acomposer available? y/n : n\n"
     ]
    }
   ],
   "source": [
    "composer = []\n",
    "element = input('composer name: ')\n",
    "composer.append(element)\n",
    "next_element = input('more composer available? y/n :')\n",
    "\n",
    "while next_element == 'y':\n",
    "    element = input('composer name: ')\n",
    "    composer.append(element)\n",
    "    next_element = input('more acomposer available? y/n :')"
   ]
  },
  {
   "cell_type": "code",
   "execution_count": 52,
   "metadata": {},
   "outputs": [],
   "source": [
    "item['song'] = song\n",
    "item['artist'] = artist\n",
    "item['composer'] = composer"
   ]
  },
  {
   "cell_type": "code",
   "execution_count": 53,
   "metadata": {},
   "outputs": [
    {
     "data": {
      "text/plain": [
       "{'song': 'BLIND FOR LOVE',\n",
       " 'artist': ['AB6IX'],\n",
       " 'composer': ['이대휘', 'Xepy', 'SFRM', 'Sanzowave', 'nomad', 'Rhymer']}"
      ]
     },
     "execution_count": 53,
     "metadata": {},
     "output_type": "execute_result"
    }
   ],
   "source": [
    "item"
   ]
  },
  {
   "cell_type": "code",
   "execution_count": 54,
   "metadata": {},
   "outputs": [],
   "source": [
    "items = db['items']\n",
    "items.append(item)"
   ]
  },
  {
   "cell_type": "code",
   "execution_count": 55,
   "metadata": {},
   "outputs": [],
   "source": [
    "db['items'] = items"
   ]
  },
  {
   "cell_type": "code",
   "execution_count": 56,
   "metadata": {},
   "outputs": [
    {
     "data": {
      "text/plain": [
       "{'items': [{'song': 'N.E.W.S',\n",
       "   'artist': ['14U'],\n",
       "   'composer': ['Steven Lee', 'Jimmy Richard', 'Al Geekboy']},\n",
       "  {'song': 'BLIND FOR LOVE',\n",
       "   'artist': ['AB6IX'],\n",
       "   'composer': ['이대휘', 'Xepy', 'SFRM', 'Sanzowave', 'nomad', 'Rhymer']}]}"
      ]
     },
     "execution_count": 56,
     "metadata": {},
     "output_type": "execute_result"
    }
   ],
   "source": [
    "db"
   ]
  },
  {
   "cell_type": "code",
   "execution_count": 57,
   "metadata": {},
   "outputs": [],
   "source": [
    "with open('data.json', 'w') as outfile:\n",
    "    json.dump(db, outfile)"
   ]
  },
  {
   "cell_type": "code",
   "execution_count": null,
   "metadata": {},
   "outputs": [],
   "source": []
  }
 ],
 "metadata": {
  "kernelspec": {
   "display_name": "Python 3",
   "language": "python",
   "name": "python3"
  },
  "language_info": {
   "codemirror_mode": {
    "name": "ipython",
    "version": 3
   },
   "file_extension": ".py",
   "mimetype": "text/x-python",
   "name": "python",
   "nbconvert_exporter": "python",
   "pygments_lexer": "ipython3",
   "version": "3.7.1"
  }
 },
 "nbformat": 4,
 "nbformat_minor": 4
}
